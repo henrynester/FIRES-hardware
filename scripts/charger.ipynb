{
 "cells": [
  {
   "cell_type": "markdown",
   "id": "f6546c76-3bc8-47ec-b537-05cea2820ea3",
   "metadata": {},
   "source": [
    "# Charger design"
   ]
  },
  {
   "cell_type": "code",
   "execution_count": 1,
   "id": "7ac2becf-96bb-4f64-9cf1-936d65088b20",
   "metadata": {},
   "outputs": [],
   "source": [
    "import numpy as np\n",
    "import matplotlib.pyplot as plt"
   ]
  },
  {
   "cell_type": "code",
   "execution_count": 29,
   "id": "e1eae5a6-1340-4bea-b9a1-5a7d854172c2",
   "metadata": {},
   "outputs": [
    {
     "name": "stdout",
     "output_type": "stream",
     "text": [
      "Input 66.7W max, Output 59.3W hmmm\n"
     ]
    }
   ],
   "source": [
    "# charging a 6s2p pack of Samsung 25R cells\n",
    "# capacity=2500mAh-->charge rate of 0.5C=1.25A\n",
    "Vout_min,Vout_max = 3.7*6, 4.2*6\n",
    "Vout=(Vout_min+Vout_max)/2\n",
    "Iout = 1.25*2 # x2 for two cells\n",
    "\n",
    "# 12V, 6.67A AC/DC power supply is the input\n",
    "Vin=10 # assume some drop at load\n",
    "Vin_max=12 #V\n",
    "Iin_max=6.67\n",
    "\n",
    "print(f'Input {Vin*Iin_max:.1f}W max, Output {Vout*Iout:.1f}W hmmm')"
   ]
  },
  {
   "cell_type": "code",
   "execution_count": 30,
   "id": "461d2234-6756-4fc1-a4fb-58f073bf383f",
   "metadata": {},
   "outputs": [
    {
     "name": "stdout",
     "output_type": "stream",
     "text": [
      "Duty cycle 57.8%\n"
     ]
    }
   ],
   "source": [
    "D = 1 - Vin/Vout\n",
    "print(f'Duty cycle {D:.1%}')"
   ]
  },
  {
   "cell_type": "code",
   "execution_count": 31,
   "id": "645c1db8-69af-4311-9cd4-bbb5a61a2f3d",
   "metadata": {},
   "outputs": [
    {
     "name": "stdout",
     "output_type": "stream",
     "text": [
      "Inductor min value: 9.8uH\n"
     ]
    }
   ],
   "source": [
    "f_sw=200e3\n",
    "L_min=D*(1-D)*Vin_max/(2*(Iout*0.30)*f_sw)\n",
    "L=22e-6\n",
    "print(f'Inductor min value: {L_min*1e6:.1f}uH')"
   ]
  },
  {
   "cell_type": "code",
   "execution_count": 32,
   "id": "ad1b3748-e731-4f81-8a7b-eef6ce855e59",
   "metadata": {},
   "outputs": [
    {
     "name": "stdout",
     "output_type": "stream",
     "text": [
      "5.925000000000001 0.7882623705408517 6.7132623705408525\n"
     ]
    }
   ],
   "source": [
    "IL_avg = Iout/(1-D)\n",
    "IL_ripple = D*Vin_max/(2*f_sw*L)\n",
    "IL_peak = IL_avg + IL_ripple\n",
    "print(IL_avg, IL_ripple, IL_peak)"
   ]
  }
 ],
 "metadata": {
  "kernelspec": {
   "display_name": "Python 3 (ipykernel)",
   "language": "python",
   "name": "python3"
  },
  "language_info": {
   "codemirror_mode": {
    "name": "ipython",
    "version": 3
   },
   "file_extension": ".py",
   "mimetype": "text/x-python",
   "name": "python",
   "nbconvert_exporter": "python",
   "pygments_lexer": "ipython3",
   "version": "3.11.2"
  }
 },
 "nbformat": 4,
 "nbformat_minor": 5
}
