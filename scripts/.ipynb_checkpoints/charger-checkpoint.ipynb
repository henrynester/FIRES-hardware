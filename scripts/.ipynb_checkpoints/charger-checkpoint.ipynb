{
 "cells": [
  {
   "cell_type": "markdown",
   "id": "f6546c76-3bc8-47ec-b537-05cea2820ea3",
   "metadata": {},
   "source": [
    "# Charger design"
   ]
  },
  {
   "cell_type": "code",
   "execution_count": null,
   "id": "7ac2becf-96bb-4f64-9cf1-936d65088b20",
   "metadata": {},
   "outputs": [],
   "source": [
    "import numpy as np\n",
    "import matplotlib.pyplot as plt"
   ]
  },
  {
   "cell_type": "code",
   "execution_count": null,
   "id": "e1eae5a6-1340-4bea-b9a1-5a7d854172c2",
   "metadata": {},
   "outputs": [],
   "source": [
    "# charging a 6s2p pack of Samsung 25R cells\n",
    "# capacity=2500mAh-->charge rate of 0.5C=1.25A\n",
    "Vout_min,Vout_max = 3.7*6, 4.2*6\n",
    "Iout = 1.25*2\n",
    "\n",
    "# 12V, 6.67A AC/DC power supply is the input\n",
    "Vout_min=10 # assume some drop at load"
   ]
  }
 ],
 "metadata": {
  "kernelspec": {
   "display_name": "Python 3 (ipykernel)",
   "language": "python",
   "name": "python3"
  },
  "language_info": {
   "codemirror_mode": {
    "name": "ipython",
    "version": 3
   },
   "file_extension": ".py",
   "mimetype": "text/x-python",
   "name": "python",
   "nbconvert_exporter": "python",
   "pygments_lexer": "ipython3",
   "version": "3.11.2"
  }
 },
 "nbformat": 4,
 "nbformat_minor": 5
}
